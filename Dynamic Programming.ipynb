{
 "cells": [
  {
   "cell_type": "markdown",
   "metadata": {},
   "source": [
    "This is the fibonacci sequence implemented by recursion. However, there is a problem, its cpmlexity is O(2^n).\n",
    "Hence, if we set n too big (for example: 100), the program will take long time.  Why is O(2^n)?\n",
    "\n",
    "       n = 5           Obviously, It's a tree. Additionally, we have too many repetitive computations.\n",
    "      /     \\\n",
    "   n = 4    n = 3\n",
    "  /     \\  /     \\\n",
    " ...   .....    ...\n",
    " \n",
    "So how can we solve this problem? by Implementning DP\n",
    "The basic concept of DP is to construct a table, then store the valus which appeared before."
   ]
  },
  {
   "cell_type": "code",
   "execution_count": 1,
   "metadata": {
    "collapsed": false
   },
   "outputs": [
    {
     "data": {
      "text/plain": [
       "55"
      ]
     },
     "execution_count": 1,
     "metadata": {},
     "output_type": "execute_result"
    }
   ],
   "source": [
    "def fib(n):\n",
    "    '''fibonacci sequence'''\n",
    "    if n == 0:\n",
    "        return 0\n",
    "    elif n == 1:\n",
    "        return 1\n",
    "    else:\n",
    "        return fib(n-1)+ fib(n-2)\n",
    "\n",
    "fib(10)"
   ]
  },
  {
   "cell_type": "code",
   "execution_count": 2,
   "metadata": {
    "collapsed": false
   },
   "outputs": [
    {
     "data": {
      "text/plain": [
       "55"
      ]
     },
     "execution_count": 2,
     "metadata": {},
     "output_type": "execute_result"
    }
   ],
   "source": [
    "def fib_dp(n):\n",
    "    sol = [-1 for i in range(n+1)]\n",
    "    sol[0] = 0\n",
    "    sol[1] = 1\n",
    "    for i in range(2,n+1):\n",
    "        sol[i] = sol[i-1] + sol[i-2]\n",
    "    return sol[n]\n",
    "\n",
    "fib_dp(10)"
   ]
  },
  {
   "cell_type": "markdown",
   "metadata": {},
   "source": [
    "Implement DP with dictionary"
   ]
  },
  {
   "cell_type": "code",
   "execution_count": 3,
   "metadata": {
    "collapsed": false
   },
   "outputs": [
    {
     "data": {
      "text/plain": [
       "55"
      ]
     },
     "execution_count": 3,
     "metadata": {},
     "output_type": "execute_result"
    }
   ],
   "source": [
    "def fib_dict(n):\n",
    "    sol_dict = {0:0, 1:1}\n",
    "    return fib_engine(n, sol_dict)\n",
    "\n",
    "def fib_engine(n, dict):\n",
    "    if n in dict:\n",
    "        return dict[n]\n",
    "    else:\n",
    "        sol = fib_engine(n-1, dict) +  fib_engine(n-2, dict)\n",
    "        dict[n] = sol\n",
    "        return sol\n",
    "\n",
    "fib_dict(10)"
   ]
  },
  {
   "cell_type": "markdown",
   "metadata": {
    "collapsed": true
   },
   "source": [
    "I'll discuss the longest common sequence below.\n",
    "First, I'll compute the LCS string length by the brutal-force method.\n",
    "Then, I'll solve it in DP method and show you how to trace back the answer."
   ]
  },
  {
   "cell_type": "code",
   "execution_count": 13,
   "metadata": {
    "collapsed": false
   },
   "outputs": [
    {
     "data": {
      "text/plain": [
       "3"
      ]
     },
     "execution_count": 13,
     "metadata": {},
     "output_type": "execute_result"
    }
   ],
   "source": [
    "def lcs_bf(x, y):\n",
    "    if len(x) == 0 or len(y) == 0:\n",
    "        return 0\n",
    "    else:\n",
    "        if x[-1] == y[-1]:     # -1 means the last one\n",
    "            return lcs_bf(x[:-1], y[:-1]) + 1\n",
    "        else:\n",
    "            return max(lcs_bf(x[:-1], y), lcs_bf(x, y[:-1]))\n",
    "\n",
    "lcs_bf(\"How are you?\", \"Pretty bad.\")"
   ]
  },
  {
   "cell_type": "markdown",
   "metadata": {},
   "source": [
    "However, if we want to get the string, we need to trace back. This needs additioal code and var - \"prev\"."
   ]
  },
  {
   "cell_type": "code",
   "execution_count": 15,
   "metadata": {
    "collapsed": false
   },
   "outputs": [
    {
     "name": "stdout",
     "output_type": "stream",
     "text": [
      " \n",
      "e\n",
      "r\n"
     ]
    }
   ],
   "source": [
    "str1 = \"How are you?\"\n",
    "str2 = \"Pretty bad.\"\n",
    "\n",
    "len1 = len(str1)\n",
    "len2 = len(str2)\n",
    "\n",
    "prev = [[0 for i in range(len1+2)] for j in range(len2+2)]\n",
    "\n",
    "def lcs_dp_2Darray(str1, str2):\n",
    "    str1 = '0'+str1;\n",
    "    str2 = '0'+str2;\n",
    "    x = len(str1)\n",
    "    y = len(str2)\n",
    "    dp_array = [[0 for i in range(x+1)] for j in range(y+1)]\n",
    "    \n",
    "    for i in range(1, x):\n",
    "         for j in range(1, y): \n",
    "            if str1[i] ==  str2[j]:\n",
    "                dp_array[i][j] = dp_array[i-1][j-1] + 1\n",
    "                prev[i][j] = 1\n",
    "            else:\n",
    "                if dp_array[i-1][j] < dp_array[i][j-1]:\n",
    "                    dp_array[i][j] = dp_array[i][j-1]\n",
    "                    prev[i][j] = 2\n",
    "                else:\n",
    "                    dp_array[i][j] = dp_array[i-1][j]\n",
    "                    prev[i][j] = 3\n",
    "\n",
    "    return dp_array[x-1][y-1]\n",
    "\n",
    "def print_lcs(i, j):\n",
    "    if i == 0 or j == 0:\n",
    "        return\n",
    "    elif prev[i][j] == 1:\n",
    "        print(str1[i-1])\n",
    "        print_lcs(i-1, j-1)\n",
    "        return\n",
    "    elif prev[i][j] == 3:\n",
    "        print_lcs(i-1, j)\n",
    "        return\n",
    "    else:\n",
    "        print_lcs(i, j-1)\n",
    "        return\n",
    "\n",
    "lcs_dp_2Darray(\"How are you?\", \"Pretty bad.\")\n",
    "print_lcs(len1 , len2)"
   ]
  },
  {
   "cell_type": "markdown",
   "metadata": {
    "collapsed": true
   },
   "source": [
    "Implementation of LCS sequence by dictionary"
   ]
  },
  {
   "cell_type": "code",
   "execution_count": 16,
   "metadata": {
    "collapsed": false
   },
   "outputs": [
    {
     "data": {
      "text/plain": [
       "3"
      ]
     },
     "execution_count": 16,
     "metadata": {},
     "output_type": "execute_result"
    }
   ],
   "source": [
    "def lcs_dict(x, y):\n",
    "    dict = {}\n",
    "    return lcs_bf(x, y)\n",
    "\n",
    "def lcs_dict_engine(x, y, dict):\n",
    "    if len(x) == 0 or len(y) == 0:\n",
    "        return 0\n",
    "    if x+y in dict:\n",
    "        return dict[x+y]\n",
    "    else:\n",
    "        if x[-1] == y[-1]:\n",
    "            sol = lcs_dict_engine(x[:-1], y[:-1], dict) +1\n",
    "            dict[x[:-1] + y[:-1]] = sol\n",
    "        else:\n",
    "            return max(lcs_dict_engine(x[:-1], y, dict), lcs_dict_engine(x, y[:-1] ,dict))\n",
    "        dict[x[:-1]+ y[:-1]] = sol\n",
    "        return sol\n",
    "\n",
    "lcs_dict(\"How are you?\", \"Pretty bad.\")"
   ]
  },
  {
   "cell_type": "code",
   "execution_count": null,
   "metadata": {
    "collapsed": true
   },
   "outputs": [],
   "source": [
    ""
   ]
  }
 ],
 "metadata": {
  "kernelspec": {
   "display_name": "Python 3",
   "language": "python",
   "name": "python3"
  },
  "language_info": {
   "codemirror_mode": {
    "name": "ipython",
    "version": 3.0
   },
   "file_extension": ".py",
   "mimetype": "text/x-python",
   "name": "python",
   "nbconvert_exporter": "python",
   "pygments_lexer": "ipython3",
   "version": "3.5.1"
  }
 },
 "nbformat": 4,
 "nbformat_minor": 0
}